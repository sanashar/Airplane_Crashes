{
  "nbformat": 4,
  "nbformat_minor": 0,
  "metadata": {
    "colab": {
      "name": "Report",
      "provenance": [],
      "collapsed_sections": []
    },
    "kernelspec": {
      "name": "python3",
      "display_name": "Python 3"
    }
  },
  "cells": [
    {
      "cell_type": "markdown",
      "metadata": {
        "id": "vZdRxxG7xTuY"
      },
      "source": [
        "# **Data 602: Homework 2**\n",
        "# **Cluster Analysis of Airplane Crashes**"
      ]
    },
    {
      "cell_type": "markdown",
      "metadata": {
        "id": "3nnD-OGjxVNP"
      },
      "source": [
        "# ***Abstract***"
      ]
    },
    {
      "cell_type": "markdown",
      "metadata": {
        "id": "suTot4PPxVQL"
      },
      "source": [
        "Airplane transportation is an exciting and brilliant invention. Even though they are being flown all around the globe, but flying comes with many risks. The dataset I am using is available through [data.world](https://data.world/data-society/airplane-crashes#_=_). In this homework I will use kmeans as the clustering algorithm to create 5 clusters, by predicting words from the text and extracting labels from the Airplane Crash data. Experimental results have shown that kmeans prediction performance is good for 2 out of 5 clusters. "
      ]
    },
    {
      "cell_type": "markdown",
      "metadata": {
        "id": "v3yjxb7nxVez"
      },
      "source": [
        "# ***Introduction & Motivation***"
      ]
    },
    {
      "cell_type": "markdown",
      "metadata": {
        "id": "WWgL5oWuxViJ"
      },
      "source": [
        "Airplanes are transportation devices which are designed to move people and cargo from one place to another. Airplanes come in many different shapes and sizes depending on the mission of the aircraft. But there is also a risk in flying. Though the fact that instances of the plane crash\n",
        "are not particularly normal, they are very fatal. The [most recent crash](https://www.baumhedlundlaw.com/aviation-accident/recent-aviation-crashes/#:~:text=On%20the%20evening%20of%20August,at%20Kozhikode%20Calicut%20International%20Airport.&text=According%20to%20media%20reports%2C%20the,the%20pilot%20decided%20to%20abort.) was on the evening of August 7, 2020, Air India Express Flight 1344 crashed with 190 people on board during a botched landing attempt at Kozhikode Calicut International Airport. Eighteen people were killed in the Air India crash and more than 150 others sustained injuries. Even though the aviation giants took many precautions to control these fatalities, incidents are still being reported.\n",
        "\n",
        "The objective is to cluster these fatalities into several different segments based on text summary. The data contains accidents as recent as 2009 and as far back as 1908. Datasets involving accidents and fatalities are important for data scientists to investigate because with enough data, we may one day be able to prevent them.\n",
        "\n",
        "\n"
      ]
    },
    {
      "cell_type": "markdown",
      "metadata": {
        "id": "9jyeRM_9xVmA"
      },
      "source": [
        "# ***Business Problem and Corresponding Machine Learning Problem***"
      ]
    },
    {
      "cell_type": "markdown",
      "metadata": {
        "id": "awUW9lcNxV0Q"
      },
      "source": [
        "From fatal crash accident info of Airplane Crashes, using cluster and visual analysis, can we detect the highest survival passenger in crash by operator? Are the crashes decreasing or increasing by years?\n",
        "\n",
        "Finding the survival trend by operator and classifying them into different segments based on clustering of the text summary beforehand can help the aviation engineers to take necessary care and precautions which decreases the casualties of airplane. Can we detect groups to help them sort the main reasons for crashes through clusters is my machine learning problem. \n"
      ]
    },
    {
      "cell_type": "markdown",
      "metadata": {
        "id": "n6TzmIQe6kwO"
      },
      "source": [
        "# ***Data Dictionary*** "
      ]
    },
    {
      "cell_type": "markdown",
      "metadata": {
        "id": "JGc1iAPppez7"
      },
      "source": [
        "The Airplane Crash dataset is available through [data.world](https://data.world/data-society/airplane-crashes#_=_) that has the crash data from 1908 to 2009. It has 5268 rows and 13 columns and dtype as float and object. It includes all aviation accidents reported in the United States, its territories and possessions, and in international waters. This is a great dataset to help us sol ve our business problem, by exploring this dataset I hope it will teach us how to improve the quality and safety of traveling by Airplane.\n",
        "\n",
        "Attributes include -\n",
        "1. Date            \n",
        "2. Time            \n",
        "3. Location         \n",
        "4. Operator         \n",
        "5. Flight #         \n",
        "6. Route            \n",
        "7. Type             \n",
        "8. Registration     \n",
        "9. cn/In            \n",
        "10. Aboard           \n",
        "11. Fatalities       \n",
        "12. Ground           \n",
        "13. Summary          "
      ]
    },
    {
      "cell_type": "markdown",
      "metadata": {
        "id": "I2dBsUgg7s5B"
      },
      "source": [
        "# ***Proposed Method***"
      ]
    },
    {
      "cell_type": "markdown",
      "metadata": {
        "id": "CBXMBMs17tSf"
      },
      "source": [
        "I will be using exploratory data analysis and machine learning techniques and apply cluster alorithm kmeans. I will be using kmeans because it can help me find homogeneous subgroups within the data such that data points in each cluster are as similar as possible according to a similarity measure such as correlation-based distance. I will first load the dataset from data.world and perform data cleaning using python. After the data cleaning, perform some visual analysis to understand the dataset better. And the finally create variables for the classification of text into different clusters and group 5 clusters.  "
      ]
    },
    {
      "cell_type": "markdown",
      "metadata": {
        "id": "K1MuCbotr9ra"
      },
      "source": [
        "# ***Experiments***"
      ]
    },
    {
      "cell_type": "markdown",
      "metadata": {
        "id": "34xs8kDYr9d0"
      },
      "source": [
        "For this project I am using Google Colaboratory notebook with python programming language to write the script. After importing the libraries and loading the dataset from data.world, I performed the exploratory data analysis and observed some missing values in the dataset. Then I examined the data using data.info and observed 5268 entries and 13 columns with dtype columns as float and object. \n",
        "\n",
        "After the data exploration, I did some analysis to count the total deaths per year and plotted a heatmap to see the corelation among the variables. Then using the matplotlib and groupby, I plotted a bar graph to see fatalities per accident and highestest survived by operator. \n",
        "\n",
        "For my cluster analysis, after feature extraction I used minibatch kmeans which works on small batches of dataset, on 5 clusters. I predicted words from the text and extracted labels from the text using minibatch to group according to common terms in each cluster. Then I used the elbo method to predict the best cluster out of 5 and plotter scatter plots of the clusters."
      ]
    },
    {
      "cell_type": "markdown",
      "metadata": {
        "id": "AqL9O9lw7tOS"
      },
      "source": [
        "# ***Results***"
      ]
    },
    {
      "cell_type": "markdown",
      "metadata": {
        "id": "ATxQtM7o7svN"
      },
      "source": [
        "1. Maximum crashes were in the year 1972 witha count of 104.\n",
        "2. From analysis we saw that as the flights increased number of fatalities increased over the years.\n",
        "3. Through visualization I could detect highest survival passenger in crash, was by operator Aeroflot. \n",
        "4. Maximum accidents were by operated by the Military and Aeroflot. \n",
        "5. Through the minibatch kmeans clustering I could detect 5 different clusters, each with similar words but different from other clusters.\n",
        "6. By using kmeans we can see that centroids are more descriptive and far away from each other which shows different classes. Therefore, our classes have different words and are similar within."
      ]
    },
    {
      "cell_type": "markdown",
      "metadata": {
        "id": "A0SfxHSA75VW"
      },
      "source": [
        "# ***Conclusion & Interpretation***"
      ]
    },
    {
      "cell_type": "markdown",
      "metadata": {
        "id": "audOdSOh75QG"
      },
      "source": [
        "Through the plot we can see there are 2 clusters very close to each other and one overlapping the other, this means that all the clusters have similar words. Kmeans performs good for both 3 and 5 clusters.\n",
        "\n",
        "We conclude that over the years as the flights increased, so did the accidents and fatalities. But The people who survived on these accidents also increased as the frequency of these accidents increased in these years. Based on clustering of the text summary we can help the aviation engineers take necessary care and precautions which decreases the casualties of airplane. Collecting more about these accidents and having a detailed study of these texts will help them cluster these events and\n",
        "avoid these incidents in the future. "
      ]
    },
    {
      "cell_type": "markdown",
      "metadata": {
        "id": "E6nZG7LW8DHS"
      },
      "source": [
        "# ***Limitation & Later Work***"
      ]
    },
    {
      "cell_type": "markdown",
      "metadata": {
        "id": "kjpUqvte8NKU"
      },
      "source": [
        "Though the plot we saw that two clusters 2 clusters very close to each other and one overlapping the other. Even though this means it has similar words, I will try to improve the prediction using kmeans. Perform more data exploration and cleaning for better clustering and analysis. Perform feature engeneering on the date time columns and maybe explore how many accidents per month or week. Also want to look into how many accidents according to location. This was a challenging homework for me, in the future would definatly spend more time on exploring how else can we analyse this data."
      ]
    },
    {
      "cell_type": "markdown",
      "metadata": {
        "id": "k1mV2cuPBpGo"
      },
      "source": [
        "# ***Documents Submitted*** "
      ]
    },
    {
      "cell_type": "markdown",
      "metadata": {
        "id": "_1X69X8-Bpcl"
      },
      "source": [
        "### Notebook \n",
        "\n",
        "    Technical Notebook: PlaneCrash.ipynb\n",
        "\n",
        "### Summary Report \n",
        "\n",
        "    Report.ipynb\n",
        "\n",
        "### Dataset \n",
        "\n",
        "    Airplane_Crashes_and_Fatalities_Since_1908.csv\n",
        "\n",
        "\n",
        "    "
      ]
    },
    {
      "cell_type": "markdown",
      "metadata": {
        "id": "3krNMtQy8PLN"
      },
      "source": [
        "# ***References***"
      ]
    },
    {
      "cell_type": "markdown",
      "metadata": {
        "id": "npMUo99O8PAj"
      },
      "source": [
        "https://www.kaggle.com/iamrohitsingh/flight-crash-investigation\n",
        "\n",
        "https://datasciencebowl.com/data-analysis-on-aviation-accidents/\n",
        "\n",
        "https://www.kaggle.com/thebrownviking20/k-means-clustering-of-1-million-headlines\n",
        "\n",
        "https://datasciencebowl.com/data-analysis-on-aviation-accidents/\n",
        "\n",
        "https://data.world/data-society/airplane-crashes\n",
        "\n",
        "https://www.kaggle.com/elifnkaraca/text-clustering-using-kmeans-for-airplane-crashes"
      ]
    }
  ]
}